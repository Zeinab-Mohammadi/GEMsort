{
 "cells": [
  {
   "cell_type": "code",
   "execution_count": null,
   "id": "7efdda85",
   "metadata": {},
   "outputs": [],
   "source": [
    "import numpy as np\n",
    "import numpy.random as npr\n",
    "import json\n",
    "import wget\n",
    "import requests\n",
    "import os\n",
    "\n",
    "npr.seed(1)\n",
    "\n",
    "if __name__ == '__main__':\n",
    "    \n",
    "    data_path = \"../../data/\"\n",
    "    if not os.path.exists(data_path): # Warning: this step takes a while\n",
    "        os.makedirs(data_path)\n",
    "        \n",
    "    # download the Neuropixels data \n",
    "    # url = 'https://doi.org/10.6084/m9.figshare.21313362.v1 \n",
    "    url = 'https://figshare.com/ndownloader/files/37854918?private_link=ef193c1623ffcb9752fe' \n",
    "    r = requests.get(url, allow_redirects=True)\n",
    "    open(data_path + 'experiment1_101-1_0.dat', 'wb').write(r.content) \n",
    "    \n",
    "# If above link is expired, you can use below code to download the data\n",
    "# url = 'https://ndownloader.figshare.com/files/37854918'\n",
    "# wget.download(url, data_path)  # Warning: this step takes a while"
   ]
  }
 ],
 "metadata": {
  "kernelspec": {
   "display_name": "Python 3 (ipykernel)",
   "language": "python",
   "name": "python3"
  },
  "language_info": {
   "codemirror_mode": {
    "name": "ipython",
    "version": 3
   },
   "file_extension": ".py",
   "mimetype": "text/x-python",
   "name": "python",
   "nbconvert_exporter": "python",
   "pygments_lexer": "ipython3",
   "version": "3.9.12"
  }
 },
 "nbformat": 4,
 "nbformat_minor": 5
}
