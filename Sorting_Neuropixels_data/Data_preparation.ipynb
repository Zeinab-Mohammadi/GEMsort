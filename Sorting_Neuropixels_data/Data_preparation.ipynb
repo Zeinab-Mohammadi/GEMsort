{
 "cells": [
  {
   "cell_type": "code",
   "execution_count": null,
   "id": "7efdda85",
   "metadata": {},
   "outputs": [],
   "source": [
    "import numpy as np\n",
    "import numpy.random as npr\n",
    "import json\n",
    "import wget\n",
    "import requests\n",
    "import os\n",
    "import time\n",
    "\n",
    "npr.seed(1)\n",
    "\n",
    "if __name__ == '__main__':\n",
    "    data_path = \"../../data/\"\n",
    "\n",
    "    if not os.path.exists(data_path): # Warning: this step takes a while and it needs high speed internet\n",
    "        os.makedirs(data_path)\n",
    "        \n",
    "    # download the Neuropixels data \n",
    "    # Use one of the below links to download the data\n",
    "    # url = 'https://figshare.com/ndownloader/files/37854918?private_link=ef193c1623ffcb9752fe' \n",
    "    url = 'https://ndownloader.figshare.com/files/37854918' \n",
    "    start = time.time()\n",
    "    r = requests.get(url, allow_redirects=True)\n",
    "    open(data_path + 'experiment1_101-1_0.dat', 'wb').write(r.content)\n",
    "    end = time.time()\n",
    "    print(end - start)\n",
    "\n",
    "    # wget.download(url, data_path)"
   ]
  },
  {
   "cell_type": "code",
   "execution_count": null,
   "id": "b3a92291",
   "metadata": {},
   "outputs": [],
   "source": []
  }
 ],
 "metadata": {
  "kernelspec": {
   "display_name": "Python 3 (ipykernel)",
   "language": "python",
   "name": "python3"
  },
  "language_info": {
   "codemirror_mode": {
    "name": "ipython",
    "version": 3
   },
   "file_extension": ".py",
   "mimetype": "text/x-python",
   "name": "python",
   "nbconvert_exporter": "python",
   "pygments_lexer": "ipython3",
   "version": "3.9.12"
  }
 },
 "nbformat": 4,
 "nbformat_minor": 5
}
